{
 "cells": [
  {
   "cell_type": "code",
   "execution_count": 1,
   "id": "76c6f49d",
   "metadata": {},
   "outputs": [],
   "source": [
    "from torch.utils.data import Dataset"
   ]
  },
  {
   "cell_type": "code",
   "execution_count": 5,
   "id": "dda8cac6",
   "metadata": {},
   "outputs": [],
   "source": [
    "from PIL import Image"
   ]
  },
  {
   "cell_type": "code",
   "execution_count": 2,
   "id": "447706e8",
   "metadata": {},
   "outputs": [
    {
     "name": "stdout",
     "output_type": "stream",
     "text": [
      "Help on class Dataset in module torch.utils.data.dataset:\n",
      "\n",
      "class Dataset(typing.Generic)\n",
      " |  An abstract class representing a :class:`Dataset`.\n",
      " |\n",
      " |  All datasets that represent a map from keys to data samples should subclass\n",
      " |  it. All subclasses should overwrite :meth:`__getitem__`, supporting fetching a\n",
      " |  data sample for a given key. Subclasses could also optionally overwrite\n",
      " |  :meth:`__len__`, which is expected to return the size of the dataset by many\n",
      " |  :class:`~torch.utils.data.Sampler` implementations and the default options\n",
      " |  of :class:`~torch.utils.data.DataLoader`. Subclasses could also\n",
      " |  optionally implement :meth:`__getitems__`, for speedup batched samples\n",
      " |  loading. This method accepts list of indices of samples of batch and returns\n",
      " |  list of samples.\n",
      " |\n",
      " |  .. note::\n",
      " |    :class:`~torch.utils.data.DataLoader` by default constructs an index\n",
      " |    sampler that yields integral indices.  To make it work with a map-style\n",
      " |    dataset with non-integral indices/keys, a custom sampler must be provided.\n",
      " |\n",
      " |  Method resolution order:\n",
      " |      Dataset\n",
      " |      typing.Generic\n",
      " |      builtins.object\n",
      " |\n",
      " |  Methods defined here:\n",
      " |\n",
      " |  __add__(self, other: Dataset[_T_co]) -> ConcatDataset[_T_co]\n",
      " |\n",
      " |  __getitem__(self, index) -> _T_co\n",
      " |\n",
      " |  ----------------------------------------------------------------------\n",
      " |  Data descriptors defined here:\n",
      " |\n",
      " |  __dict__\n",
      " |      dictionary for instance variables\n",
      " |\n",
      " |  __weakref__\n",
      " |      list of weak references to the object\n",
      " |\n",
      " |  ----------------------------------------------------------------------\n",
      " |  Data and other attributes defined here:\n",
      " |\n",
      " |  __orig_bases__ = (typing.Generic[+_T_co],)\n",
      " |\n",
      " |  __parameters__ = (+_T_co,)\n",
      " |\n",
      " |  ----------------------------------------------------------------------\n",
      " |  Class methods inherited from typing.Generic:\n",
      " |\n",
      " |  __class_getitem__(...)\n",
      " |      Parameterizes a generic class.\n",
      " |\n",
      " |      At least, parameterizing a generic class is the *main* thing this\n",
      " |      method does. For example, for some generic class `Foo`, this is called\n",
      " |      when we do `Foo[int]` - there, with `cls=Foo` and `params=int`.\n",
      " |\n",
      " |      However, note that this method is also called when defining generic\n",
      " |      classes in the first place with `class Foo[T]: ...`.\n",
      " |\n",
      " |  __init_subclass__(...)\n",
      " |      Function to initialize subclasses.\n",
      "\n"
     ]
    }
   ],
   "source": [
    "help(Dataset)"
   ]
  },
  {
   "cell_type": "code",
   "execution_count": 4,
   "id": "d2200346",
   "metadata": {},
   "outputs": [
    {
     "name": "stdout",
     "output_type": "stream",
     "text": [
      "\u001b[31mInit signature:\u001b[39m Dataset()\n",
      "\u001b[31mSource:\u001b[39m        \n",
      "\u001b[38;5;28;01mclass\u001b[39;00m Dataset(Generic[_T_co]):\n",
      "    \u001b[33mr\"\"\"An abstract class representing a :class:`Dataset`.\u001b[39m\n",
      "\n",
      "\u001b[33m    All datasets that represent a map from keys to data samples should subclass\u001b[39m\n",
      "\u001b[33m    it. All subclasses should overwrite :meth:`__getitem__`, supporting fetching a\u001b[39m\n",
      "\u001b[33m    data sample for a given key. Subclasses could also optionally overwrite\u001b[39m\n",
      "\u001b[33m    :meth:`__len__`, which is expected to return the size of the dataset by many\u001b[39m\n",
      "\u001b[33m    :class:`~torch.utils.data.Sampler` implementations and the default options\u001b[39m\n",
      "\u001b[33m    of :class:`~torch.utils.data.DataLoader`. Subclasses could also\u001b[39m\n",
      "\u001b[33m    optionally implement :meth:`__getitems__`, for speedup batched samples\u001b[39m\n",
      "\u001b[33m    loading. This method accepts list of indices of samples of batch and returns\u001b[39m\n",
      "\u001b[33m    list of samples.\u001b[39m\n",
      "\n",
      "\u001b[33m    .. note::\u001b[39m\n",
      "\u001b[33m      :class:`~torch.utils.data.DataLoader` by default constructs an index\u001b[39m\n",
      "\u001b[33m      sampler that yields integral indices.  To make it work with a map-style\u001b[39m\n",
      "\u001b[33m      dataset with non-integral indices/keys, a custom sampler must be provided.\u001b[39m\n",
      "\u001b[33m    \"\"\"\u001b[39m\n",
      "\n",
      "    \u001b[38;5;28;01mdef\u001b[39;00m __getitem__(self, index) -> _T_co:\n",
      "        \u001b[38;5;28;01mraise\u001b[39;00m NotImplementedError(\u001b[33m\"Subclasses of Dataset should implement __getitem__.\"\u001b[39m)\n",
      "\n",
      "    \u001b[38;5;66;03m# def __getitems__(self, indices: List) -> List[_T_co]:\u001b[39;00m\n",
      "    \u001b[38;5;66;03m# Not implemented to prevent false-positives in fetcher check in\u001b[39;00m\n",
      "    \u001b[38;5;66;03m# torch.utils.data._utils.fetch._MapDatasetFetcher\u001b[39;00m\n",
      "\n",
      "    \u001b[38;5;28;01mdef\u001b[39;00m __add__(self, other: \u001b[33m\"Dataset[_T_co]\"\u001b[39m) -> \u001b[33m\"ConcatDataset[_T_co]\"\u001b[39m:\n",
      "        \u001b[38;5;28;01mreturn\u001b[39;00m ConcatDataset([self, other])\n",
      "\n",
      "    \u001b[38;5;66;03m# No `def __len__(self)` default?\u001b[39;00m\n",
      "    \u001b[38;5;66;03m# See NOTE [ Lack of Default `__len__` in Python Abstract Base Classes ]\u001b[39;00m\n",
      "    \u001b[38;5;66;03m# in pytorch/torch/utils/data/sampler.py\u001b[39;00m\n",
      "\u001b[31mFile:\u001b[39m           d:\\myproject\\dl_projects\\env\\pytorch\\lib\\site-packages\\torch\\utils\\data\\dataset.py\n",
      "\u001b[31mType:\u001b[39m           type\n",
      "\u001b[31mSubclasses:\u001b[39m     IterableDataset, TensorDataset, StackDataset, ConcatDataset, Subset, MapDataPipe"
     ]
    }
   ],
   "source": [
    "Dataset??"
   ]
  },
  {
   "cell_type": "code",
   "execution_count": null,
   "id": "bbdc6c8e",
   "metadata": {},
   "outputs": [],
   "source": [
    "class MyData(Dataset):\n",
    "    def __init__(self):\n",
    "\n",
    "    def __getitem__(self, index):\n",
    "        return super().__getitem__(index)\n"
   ]
  }
 ],
 "metadata": {
  "kernelspec": {
   "display_name": "Python 3",
   "language": "python",
   "name": "python3"
  },
  "language_info": {
   "codemirror_mode": {
    "name": "ipython",
    "version": 3
   },
   "file_extension": ".py",
   "mimetype": "text/x-python",
   "name": "python",
   "nbconvert_exporter": "python",
   "pygments_lexer": "ipython3",
   "version": "3.14.0"
  }
 },
 "nbformat": 4,
 "nbformat_minor": 5
}
