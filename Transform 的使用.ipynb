{
 "cells": [
  {
   "cell_type": "code",
   "execution_count": 7,
   "id": "102b6584",
   "metadata": {},
   "outputs": [],
   "source": [
    "from torchvision import transforms\n",
    "from PIL import Image\n",
    "from torch.utils.tensorboard import SummaryWriter"
   ]
  },
  {
   "cell_type": "code",
   "execution_count": 8,
   "id": "90b8bb5f",
   "metadata": {},
   "outputs": [],
   "source": [
    "writer = SummaryWriter()"
   ]
  },
  {
   "cell_type": "code",
   "execution_count": 6,
   "id": "fc76e75e",
   "metadata": {},
   "outputs": [
    {
     "data": {
      "text/plain": [
       "tensor([[[0.3137, 0.3137, 0.3137,  ..., 0.3176, 0.3098, 0.2980],\n",
       "         [0.3176, 0.3176, 0.3176,  ..., 0.3176, 0.3098, 0.2980],\n",
       "         [0.3216, 0.3216, 0.3216,  ..., 0.3137, 0.3098, 0.3020],\n",
       "         ...,\n",
       "         [0.3412, 0.3412, 0.3373,  ..., 0.1725, 0.3725, 0.3529],\n",
       "         [0.3412, 0.3412, 0.3373,  ..., 0.3294, 0.3529, 0.3294],\n",
       "         [0.3412, 0.3412, 0.3373,  ..., 0.3098, 0.3059, 0.3294]],\n",
       "\n",
       "        [[0.5922, 0.5922, 0.5922,  ..., 0.5961, 0.5882, 0.5765],\n",
       "         [0.5961, 0.5961, 0.5961,  ..., 0.5961, 0.5882, 0.5765],\n",
       "         [0.6000, 0.6000, 0.6000,  ..., 0.5922, 0.5882, 0.5804],\n",
       "         ...,\n",
       "         [0.6275, 0.6275, 0.6235,  ..., 0.3608, 0.6196, 0.6157],\n",
       "         [0.6275, 0.6275, 0.6235,  ..., 0.5765, 0.6275, 0.5961],\n",
       "         [0.6275, 0.6275, 0.6235,  ..., 0.6275, 0.6235, 0.6314]],\n",
       "\n",
       "        [[0.9137, 0.9137, 0.9137,  ..., 0.9176, 0.9098, 0.8980],\n",
       "         [0.9176, 0.9176, 0.9176,  ..., 0.9176, 0.9098, 0.8980],\n",
       "         [0.9216, 0.9216, 0.9216,  ..., 0.9137, 0.9098, 0.9020],\n",
       "         ...,\n",
       "         [0.9294, 0.9294, 0.9255,  ..., 0.5529, 0.9216, 0.8941],\n",
       "         [0.9294, 0.9294, 0.9255,  ..., 0.8863, 1.0000, 0.9137],\n",
       "         [0.9294, 0.9294, 0.9255,  ..., 0.9490, 0.9804, 0.9137]]])"
      ]
     },
     "execution_count": 6,
     "metadata": {},
     "output_type": "execute_result"
    }
   ],
   "source": [
    "img = Image.open(\"Dataset/train/ants/0013035.jpg\")\n",
    "trans_totensor = transforms.ToTensor()\n",
    "img_tensor = trans_totensor(img)\n",
    "img_tensor"
   ]
  },
  {
   "cell_type": "markdown",
   "id": "9be02a49",
   "metadata": {},
   "source": [
    "img_tensor: Default is (3, H, W)"
   ]
  },
  {
   "cell_type": "code",
   "execution_count": 13,
   "id": "8a2369cb",
   "metadata": {},
   "outputs": [],
   "source": [
    "writer.add_image(\"ToTensor\",img_tensor)"
   ]
  },
  {
   "cell_type": "code",
   "execution_count": 11,
   "id": "747bb4bf",
   "metadata": {},
   "outputs": [],
   "source": [
    "trans_normalize1 = transforms.Normalize([0.5,0.5,0.5],[0.5,0.5,0.5])\n",
    "trans_normalize2 = transforms.Normalize([100,5,66],[7,0.5,0.5])\n",
    "img_norm1 = trans_normalize1(img_tensor)\n",
    "img_norm2 = trans_normalize2(img_tensor)"
   ]
  },
  {
   "cell_type": "code",
   "execution_count": null,
   "id": "530cdf27",
   "metadata": {},
   "outputs": [],
   "source": [
    "writer.add_image(\"Normalize\", img_norm1, 0)\n",
    "writer.add_image(\"Normalize\", img_norm2, 1)\n"
   ]
  },
  {
   "cell_type": "code",
   "execution_count": null,
   "id": "76ec1afd",
   "metadata": {},
   "outputs": [
    {
     "data": {
      "text/plain": [
       "tensor([[[0.3137, 0.3142, 0.3172,  ..., 0.3137, 0.3150, 0.3025],\n",
       "         [0.3176, 0.3176, 0.3176,  ..., 0.3115, 0.3146, 0.3025],\n",
       "         [0.3216, 0.3211, 0.3181,  ..., 0.3076, 0.3120, 0.3049],\n",
       "         ...,\n",
       "         [0.3412, 0.3386, 0.3373,  ..., 0.0214, 0.2205, 0.3603],\n",
       "         [0.3412, 0.3386, 0.3373,  ..., 0.3481, 0.3381, 0.3382],\n",
       "         [0.3412, 0.3386, 0.3373,  ..., 0.3538, 0.3142, 0.3206]],\n",
       "\n",
       "        [[0.5922, 0.5926, 0.5956,  ..., 0.5922, 0.5935, 0.5809],\n",
       "         [0.5961, 0.5961, 0.5961,  ..., 0.5900, 0.5930, 0.5809],\n",
       "         [0.6000, 0.5996, 0.5965,  ..., 0.5861, 0.5904, 0.5833],\n",
       "         ...,\n",
       "         [0.6275, 0.6248, 0.6235,  ..., 0.1033, 0.4170, 0.6172],\n",
       "         [0.6275, 0.6248, 0.6235,  ..., 0.5386, 0.5882, 0.6078],\n",
       "         [0.6275, 0.6248, 0.6235,  ..., 0.6375, 0.6279, 0.6284]],\n",
       "\n",
       "        [[0.9137, 0.9142, 0.9172,  ..., 0.9137, 0.9150, 0.9025],\n",
       "         [0.9176, 0.9176, 0.9176,  ..., 0.9115, 0.9146, 0.9025],\n",
       "         [0.9216, 0.9211, 0.9181,  ..., 0.9076, 0.9120, 0.9049],\n",
       "         ...,\n",
       "         [0.9294, 0.9268, 0.9255,  ..., 0.1952, 0.6336, 0.9044],\n",
       "         [0.9294, 0.9268, 0.9255,  ..., 0.7904, 0.9102, 0.9461],\n",
       "         [0.9294, 0.9268, 0.9255,  ..., 0.9412, 0.9569, 0.9387]]])"
      ]
     },
     "execution_count": 15,
     "metadata": {},
     "output_type": "execute_result"
    }
   ],
   "source": [
    "trans_resize_1 = transforms.Resize((512,512))\n",
    "img_resize_1 = trans_resize_1(img_tensor)\n",
    "img_resize_1"
   ]
  },
  {
   "cell_type": "code",
   "execution_count": 16,
   "id": "98bd5b79",
   "metadata": {},
   "outputs": [
    {
     "data": {
      "text/plain": [
       "tensor([[[0.3137, 0.3142, 0.3172,  ..., 0.3137, 0.3150, 0.3025],\n",
       "         [0.3176, 0.3176, 0.3176,  ..., 0.3115, 0.3146, 0.3025],\n",
       "         [0.3216, 0.3211, 0.3181,  ..., 0.3076, 0.3120, 0.3049],\n",
       "         ...,\n",
       "         [0.3412, 0.3386, 0.3373,  ..., 0.0214, 0.2205, 0.3603],\n",
       "         [0.3412, 0.3386, 0.3373,  ..., 0.3481, 0.3381, 0.3382],\n",
       "         [0.3412, 0.3386, 0.3373,  ..., 0.3538, 0.3142, 0.3206]],\n",
       "\n",
       "        [[0.5922, 0.5926, 0.5956,  ..., 0.5922, 0.5935, 0.5809],\n",
       "         [0.5961, 0.5961, 0.5961,  ..., 0.5900, 0.5930, 0.5809],\n",
       "         [0.6000, 0.5996, 0.5965,  ..., 0.5861, 0.5904, 0.5833],\n",
       "         ...,\n",
       "         [0.6275, 0.6248, 0.6235,  ..., 0.1033, 0.4170, 0.6172],\n",
       "         [0.6275, 0.6248, 0.6235,  ..., 0.5386, 0.5882, 0.6078],\n",
       "         [0.6275, 0.6248, 0.6235,  ..., 0.6375, 0.6279, 0.6284]],\n",
       "\n",
       "        [[0.9137, 0.9142, 0.9172,  ..., 0.9137, 0.9150, 0.9025],\n",
       "         [0.9176, 0.9176, 0.9176,  ..., 0.9115, 0.9146, 0.9025],\n",
       "         [0.9216, 0.9211, 0.9181,  ..., 0.9076, 0.9120, 0.9049],\n",
       "         ...,\n",
       "         [0.9294, 0.9268, 0.9255,  ..., 0.1952, 0.6336, 0.9044],\n",
       "         [0.9294, 0.9268, 0.9255,  ..., 0.7904, 0.9102, 0.9461],\n",
       "         [0.9294, 0.9268, 0.9255,  ..., 0.9412, 0.9569, 0.9387]]])"
      ]
     },
     "execution_count": 16,
     "metadata": {},
     "output_type": "execute_result"
    }
   ],
   "source": [
    "trans_resize_2 = transforms.Resize(512)\n",
    "img_resize_2 = trans_resize_1(img_tensor)\n",
    "img_resize_2"
   ]
  },
  {
   "cell_type": "code",
   "execution_count": null,
   "id": "063cad67",
   "metadata": {},
   "outputs": [],
   "source": [
    "writer.add_image(\"resize\",img_resize_1,1)\n",
    "writer.add_image(\"resize\",img_tensor,2)\n"
   ]
  },
  {
   "cell_type": "code",
   "execution_count": 19,
   "id": "78eb928e",
   "metadata": {},
   "outputs": [],
   "source": [
    "trans_randomcrop = transforms.RandomCrop(512)\n",
    "for i in range(15):\n",
    "    writer.add_image(\"RandomCrop\", trans_randomcrop(img_tensor), i)\n",
    "writer.close()"
   ]
  }
 ],
 "metadata": {
  "kernelspec": {
   "display_name": "Python 3",
   "language": "python",
   "name": "python3"
  },
  "language_info": {
   "codemirror_mode": {
    "name": "ipython",
    "version": 3
   },
   "file_extension": ".py",
   "mimetype": "text/x-python",
   "name": "python",
   "nbconvert_exporter": "python",
   "pygments_lexer": "ipython3",
   "version": "3.14.0"
  }
 },
 "nbformat": 4,
 "nbformat_minor": 5
}
